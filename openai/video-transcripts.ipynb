{
 "cells": [
  {
   "cell_type": "code",
   "execution_count": 1,
   "id": "fc0880e5",
   "metadata": {},
   "outputs": [],
   "source": [
    "import pandas as pd\n",
    "import os"
   ]
  },
  {
   "cell_type": "code",
   "execution_count": 2,
   "id": "dd9bd999",
   "metadata": {},
   "outputs": [],
   "source": [
    "df = pd.read_csv('/home/eduardo/Desktop/MARVL/transcripts/yt-get-to-the-c-suite.txt', header=None)"
   ]
  },
  {
   "cell_type": "code",
   "execution_count": 3,
   "id": "f2e00721",
   "metadata": {},
   "outputs": [
    {
     "data": {
      "text/html": [
       "<div>\n",
       "<style scoped>\n",
       "    .dataframe tbody tr th:only-of-type {\n",
       "        vertical-align: middle;\n",
       "    }\n",
       "\n",
       "    .dataframe tbody tr th {\n",
       "        vertical-align: top;\n",
       "    }\n",
       "\n",
       "    .dataframe thead th {\n",
       "        text-align: right;\n",
       "    }\n",
       "</style>\n",
       "<table border=\"1\" class=\"dataframe\">\n",
       "  <thead>\n",
       "    <tr style=\"text-align: right;\">\n",
       "      <th></th>\n",
       "      <th>0</th>\n",
       "    </tr>\n",
       "  </thead>\n",
       "  <tbody>\n",
       "    <tr>\n",
       "      <th>0</th>\n",
       "      <td>0:00</td>\n",
       "    </tr>\n",
       "    <tr>\n",
       "      <th>1</th>\n",
       "      <td>um today's content I'm super excited for so um...</td>\n",
       "    </tr>\n",
       "    <tr>\n",
       "      <th>2</th>\n",
       "      <td>0:06</td>\n",
       "    </tr>\n",
       "    <tr>\n",
       "      <th>3</th>\n",
       "      <td>In everybody nice to meet you my name is Evan ...</td>\n",
       "    </tr>\n",
       "    <tr>\n",
       "      <th>4</th>\n",
       "      <td>0:14</td>\n",
       "    </tr>\n",
       "    <tr>\n",
       "      <th>...</th>\n",
       "      <td>...</td>\n",
       "    </tr>\n",
       "    <tr>\n",
       "      <th>991</th>\n",
       "      <td>works still hop on that one on Thursday I'm su...</td>\n",
       "    </tr>\n",
       "    <tr>\n",
       "      <th>992</th>\n",
       "      <td>50:42</td>\n",
       "    </tr>\n",
       "    <tr>\n",
       "      <th>993</th>\n",
       "      <td>speakers on there um I had a prep call with th...</td>\n",
       "    </tr>\n",
       "    <tr>\n",
       "      <th>994</th>\n",
       "      <td>50:49</td>\n",
       "    </tr>\n",
       "    <tr>\n",
       "      <th>995</th>\n",
       "      <td>Thursday but um thank you all for tuning in today</td>\n",
       "    </tr>\n",
       "  </tbody>\n",
       "</table>\n",
       "<p>996 rows × 1 columns</p>\n",
       "</div>"
      ],
      "text/plain": [
       "                                                     0\n",
       "0                                                 0:00\n",
       "1    um today's content I'm super excited for so um...\n",
       "2                                                 0:06\n",
       "3    In everybody nice to meet you my name is Evan ...\n",
       "4                                                 0:14\n",
       "..                                                 ...\n",
       "991  works still hop on that one on Thursday I'm su...\n",
       "992                                              50:42\n",
       "993  speakers on there um I had a prep call with th...\n",
       "994                                              50:49\n",
       "995  Thursday but um thank you all for tuning in today\n",
       "\n",
       "[996 rows x 1 columns]"
      ]
     },
     "execution_count": 3,
     "metadata": {},
     "output_type": "execute_result"
    }
   ],
   "source": [
    "df"
   ]
  },
  {
   "cell_type": "code",
   "execution_count": 4,
   "id": "3c4f2c49",
   "metadata": {},
   "outputs": [],
   "source": [
    "df['sentence'] = df[1::2]"
   ]
  },
  {
   "cell_type": "code",
   "execution_count": 5,
   "id": "e2e71907",
   "metadata": {},
   "outputs": [
    {
     "data": {
      "text/html": [
       "<div>\n",
       "<style scoped>\n",
       "    .dataframe tbody tr th:only-of-type {\n",
       "        vertical-align: middle;\n",
       "    }\n",
       "\n",
       "    .dataframe tbody tr th {\n",
       "        vertical-align: top;\n",
       "    }\n",
       "\n",
       "    .dataframe thead th {\n",
       "        text-align: right;\n",
       "    }\n",
       "</style>\n",
       "<table border=\"1\" class=\"dataframe\">\n",
       "  <thead>\n",
       "    <tr style=\"text-align: right;\">\n",
       "      <th></th>\n",
       "      <th>0</th>\n",
       "      <th>sentence</th>\n",
       "    </tr>\n",
       "  </thead>\n",
       "  <tbody>\n",
       "    <tr>\n",
       "      <th>0</th>\n",
       "      <td>0:00</td>\n",
       "      <td>NaN</td>\n",
       "    </tr>\n",
       "    <tr>\n",
       "      <th>1</th>\n",
       "      <td>um today's content I'm super excited for so um...</td>\n",
       "      <td>um today's content I'm super excited for so um...</td>\n",
       "    </tr>\n",
       "    <tr>\n",
       "      <th>2</th>\n",
       "      <td>0:06</td>\n",
       "      <td>NaN</td>\n",
       "    </tr>\n",
       "    <tr>\n",
       "      <th>3</th>\n",
       "      <td>In everybody nice to meet you my name is Evan ...</td>\n",
       "      <td>In everybody nice to meet you my name is Evan ...</td>\n",
       "    </tr>\n",
       "    <tr>\n",
       "      <th>4</th>\n",
       "      <td>0:14</td>\n",
       "      <td>NaN</td>\n",
       "    </tr>\n",
       "    <tr>\n",
       "      <th>...</th>\n",
       "      <td>...</td>\n",
       "      <td>...</td>\n",
       "    </tr>\n",
       "    <tr>\n",
       "      <th>991</th>\n",
       "      <td>works still hop on that one on Thursday I'm su...</td>\n",
       "      <td>works still hop on that one on Thursday I'm su...</td>\n",
       "    </tr>\n",
       "    <tr>\n",
       "      <th>992</th>\n",
       "      <td>50:42</td>\n",
       "      <td>NaN</td>\n",
       "    </tr>\n",
       "    <tr>\n",
       "      <th>993</th>\n",
       "      <td>speakers on there um I had a prep call with th...</td>\n",
       "      <td>speakers on there um I had a prep call with th...</td>\n",
       "    </tr>\n",
       "    <tr>\n",
       "      <th>994</th>\n",
       "      <td>50:49</td>\n",
       "      <td>NaN</td>\n",
       "    </tr>\n",
       "    <tr>\n",
       "      <th>995</th>\n",
       "      <td>Thursday but um thank you all for tuning in today</td>\n",
       "      <td>Thursday but um thank you all for tuning in today</td>\n",
       "    </tr>\n",
       "  </tbody>\n",
       "</table>\n",
       "<p>996 rows × 2 columns</p>\n",
       "</div>"
      ],
      "text/plain": [
       "                                                     0  \\\n",
       "0                                                 0:00   \n",
       "1    um today's content I'm super excited for so um...   \n",
       "2                                                 0:06   \n",
       "3    In everybody nice to meet you my name is Evan ...   \n",
       "4                                                 0:14   \n",
       "..                                                 ...   \n",
       "991  works still hop on that one on Thursday I'm su...   \n",
       "992                                              50:42   \n",
       "993  speakers on there um I had a prep call with th...   \n",
       "994                                              50:49   \n",
       "995  Thursday but um thank you all for tuning in today   \n",
       "\n",
       "                                              sentence  \n",
       "0                                                  NaN  \n",
       "1    um today's content I'm super excited for so um...  \n",
       "2                                                  NaN  \n",
       "3    In everybody nice to meet you my name is Evan ...  \n",
       "4                                                  NaN  \n",
       "..                                                 ...  \n",
       "991  works still hop on that one on Thursday I'm su...  \n",
       "992                                                NaN  \n",
       "993  speakers on there um I had a prep call with th...  \n",
       "994                                                NaN  \n",
       "995  Thursday but um thank you all for tuning in today  \n",
       "\n",
       "[996 rows x 2 columns]"
      ]
     },
     "execution_count": 5,
     "metadata": {},
     "output_type": "execute_result"
    }
   ],
   "source": [
    "df"
   ]
  },
  {
   "cell_type": "code",
   "execution_count": 6,
   "id": "bb305589",
   "metadata": {},
   "outputs": [],
   "source": [
    "df['startTime'] = df[0][0::2]"
   ]
  },
  {
   "cell_type": "code",
   "execution_count": 7,
   "id": "ee901899",
   "metadata": {},
   "outputs": [
    {
     "data": {
      "text/html": [
       "<div>\n",
       "<style scoped>\n",
       "    .dataframe tbody tr th:only-of-type {\n",
       "        vertical-align: middle;\n",
       "    }\n",
       "\n",
       "    .dataframe tbody tr th {\n",
       "        vertical-align: top;\n",
       "    }\n",
       "\n",
       "    .dataframe thead th {\n",
       "        text-align: right;\n",
       "    }\n",
       "</style>\n",
       "<table border=\"1\" class=\"dataframe\">\n",
       "  <thead>\n",
       "    <tr style=\"text-align: right;\">\n",
       "      <th></th>\n",
       "      <th>0</th>\n",
       "      <th>sentence</th>\n",
       "      <th>startTime</th>\n",
       "    </tr>\n",
       "  </thead>\n",
       "  <tbody>\n",
       "    <tr>\n",
       "      <th>0</th>\n",
       "      <td>0:00</td>\n",
       "      <td>NaN</td>\n",
       "      <td>0:00</td>\n",
       "    </tr>\n",
       "    <tr>\n",
       "      <th>1</th>\n",
       "      <td>um today's content I'm super excited for so um...</td>\n",
       "      <td>um today's content I'm super excited for so um...</td>\n",
       "      <td>NaN</td>\n",
       "    </tr>\n",
       "    <tr>\n",
       "      <th>2</th>\n",
       "      <td>0:06</td>\n",
       "      <td>NaN</td>\n",
       "      <td>0:06</td>\n",
       "    </tr>\n",
       "    <tr>\n",
       "      <th>3</th>\n",
       "      <td>In everybody nice to meet you my name is Evan ...</td>\n",
       "      <td>In everybody nice to meet you my name is Evan ...</td>\n",
       "      <td>NaN</td>\n",
       "    </tr>\n",
       "    <tr>\n",
       "      <th>4</th>\n",
       "      <td>0:14</td>\n",
       "      <td>NaN</td>\n",
       "      <td>0:14</td>\n",
       "    </tr>\n",
       "    <tr>\n",
       "      <th>...</th>\n",
       "      <td>...</td>\n",
       "      <td>...</td>\n",
       "      <td>...</td>\n",
       "    </tr>\n",
       "    <tr>\n",
       "      <th>991</th>\n",
       "      <td>works still hop on that one on Thursday I'm su...</td>\n",
       "      <td>works still hop on that one on Thursday I'm su...</td>\n",
       "      <td>NaN</td>\n",
       "    </tr>\n",
       "    <tr>\n",
       "      <th>992</th>\n",
       "      <td>50:42</td>\n",
       "      <td>NaN</td>\n",
       "      <td>50:42</td>\n",
       "    </tr>\n",
       "    <tr>\n",
       "      <th>993</th>\n",
       "      <td>speakers on there um I had a prep call with th...</td>\n",
       "      <td>speakers on there um I had a prep call with th...</td>\n",
       "      <td>NaN</td>\n",
       "    </tr>\n",
       "    <tr>\n",
       "      <th>994</th>\n",
       "      <td>50:49</td>\n",
       "      <td>NaN</td>\n",
       "      <td>50:49</td>\n",
       "    </tr>\n",
       "    <tr>\n",
       "      <th>995</th>\n",
       "      <td>Thursday but um thank you all for tuning in today</td>\n",
       "      <td>Thursday but um thank you all for tuning in today</td>\n",
       "      <td>NaN</td>\n",
       "    </tr>\n",
       "  </tbody>\n",
       "</table>\n",
       "<p>996 rows × 3 columns</p>\n",
       "</div>"
      ],
      "text/plain": [
       "                                                     0  \\\n",
       "0                                                 0:00   \n",
       "1    um today's content I'm super excited for so um...   \n",
       "2                                                 0:06   \n",
       "3    In everybody nice to meet you my name is Evan ...   \n",
       "4                                                 0:14   \n",
       "..                                                 ...   \n",
       "991  works still hop on that one on Thursday I'm su...   \n",
       "992                                              50:42   \n",
       "993  speakers on there um I had a prep call with th...   \n",
       "994                                              50:49   \n",
       "995  Thursday but um thank you all for tuning in today   \n",
       "\n",
       "                                              sentence startTime  \n",
       "0                                                  NaN      0:00  \n",
       "1    um today's content I'm super excited for so um...       NaN  \n",
       "2                                                  NaN      0:06  \n",
       "3    In everybody nice to meet you my name is Evan ...       NaN  \n",
       "4                                                  NaN      0:14  \n",
       "..                                                 ...       ...  \n",
       "991  works still hop on that one on Thursday I'm su...       NaN  \n",
       "992                                                NaN     50:42  \n",
       "993  speakers on there um I had a prep call with th...       NaN  \n",
       "994                                                NaN     50:49  \n",
       "995  Thursday but um thank you all for tuning in today       NaN  \n",
       "\n",
       "[996 rows x 3 columns]"
      ]
     },
     "execution_count": 7,
     "metadata": {},
     "output_type": "execute_result"
    }
   ],
   "source": [
    "df"
   ]
  },
  {
   "cell_type": "code",
   "execution_count": 8,
   "id": "a77fca3e",
   "metadata": {},
   "outputs": [],
   "source": [
    "sentences = df['sentence'].dropna().reset_index(drop=True)"
   ]
  },
  {
   "cell_type": "code",
   "execution_count": 9,
   "id": "8189625c",
   "metadata": {},
   "outputs": [],
   "source": [
    "start_times = df['startTime'].dropna().reset_index(drop=True)"
   ]
  },
  {
   "cell_type": "code",
   "execution_count": 10,
   "id": "46b3456a",
   "metadata": {},
   "outputs": [
    {
     "name": "stdout",
     "output_type": "stream",
     "text": [
      "(498,)\n",
      "(498,)\n"
     ]
    }
   ],
   "source": [
    "print(sentences.shape)\n",
    "print(start_times.shape)"
   ]
  },
  {
   "cell_type": "code",
   "execution_count": 11,
   "id": "dd254d8b",
   "metadata": {},
   "outputs": [
    {
     "data": {
      "text/plain": [
       "0      um today's content I'm super excited for so um...\n",
       "1      In everybody nice to meet you my name is Evan ...\n",
       "2      at drift um and been here about five years uh ...\n",
       "3      this c-suite faster we have an amazing list of...\n",
       "4      that with us today um before I pass over to Br...\n",
       "                             ...                        \n",
       "493    present and ask questions we have an upcoming ...\n",
       "494    um that's on a sales Leader's guide to a kille...\n",
       "495    works still hop on that one on Thursday I'm su...\n",
       "496    speakers on there um I had a prep call with th...\n",
       "497    Thursday but um thank you all for tuning in today\n",
       "Name: sentence, Length: 498, dtype: object"
      ]
     },
     "execution_count": 11,
     "metadata": {},
     "output_type": "execute_result"
    }
   ],
   "source": [
    "sentences"
   ]
  },
  {
   "cell_type": "code",
   "execution_count": 12,
   "id": "c7c3efe5",
   "metadata": {},
   "outputs": [
    {
     "data": {
      "text/plain": [
       "0       0:00\n",
       "1       0:06\n",
       "2       0:14\n",
       "3       0:19\n",
       "4       0:25\n",
       "       ...  \n",
       "493    50:22\n",
       "494    50:28\n",
       "495    50:35\n",
       "496    50:42\n",
       "497    50:49\n",
       "Name: startTime, Length: 498, dtype: object"
      ]
     },
     "execution_count": 12,
     "metadata": {},
     "output_type": "execute_result"
    }
   ],
   "source": [
    "start_times"
   ]
  },
  {
   "cell_type": "code",
   "execution_count": 13,
   "id": "bb878ddf",
   "metadata": {},
   "outputs": [],
   "source": [
    "pd.concat([sentences, start_times], axis=1).to_csv('test.csv', index=False)"
   ]
  },
  {
   "cell_type": "code",
   "execution_count": 14,
   "id": "8f5571bc",
   "metadata": {},
   "outputs": [],
   "source": [
    "def format_transcript(filepath, name):\n",
    "    \"\"\"\n",
    "    Function that loads a text file that contains Youtube transcript data. File must follow the formatting below:\n",
    "        <timestamp>\n",
    "        <sentence>\n",
    "        <timestamp>\n",
    "        <sentence>\n",
    "    \n",
    "    Args:\n",
    "        filepath: path to the '.txt' file containing the transcript. Include the file name in the path. \n",
    "        filename: name for the output '.csv' file. Include '.csv' in the name. \n",
    "        \n",
    "    Returns: \n",
    "        '.csv' file with a 'sentence' column containing text, and 'startTime' column containing a string with\n",
    "        time information\n",
    "    \"\"\"\n",
    "    # Load libraries \n",
    "    import pandas as pd\n",
    "    \n",
    "    # Load the text file\n",
    "    df = pd.read_csv(filepath, header=None)\n",
    "    \n",
    "    # Slice sentences and timestamps only \n",
    "    df['sentence'] = df[1::2]\n",
    "    df['startTime'] = df[0][0::2]\n",
    "    \n",
    "    # Create new dfs with only sentences\n",
    "    sentences = df['sentence'].dropna().reset_index(drop=True)\n",
    "    start_times = df['startTime'].dropna().reset_index(drop=True)\n",
    "    \n",
    "    # Merge sentences and start_times\n",
    "    f_transcript = pd.concat([sentences, start_times], axis=1)\n",
    "    \n",
    "    # Export to a '.csv'\n",
    "    f_transcript.to_csv(name, index=False)"
   ]
  },
  {
   "cell_type": "code",
   "execution_count": 15,
   "id": "7617ef74",
   "metadata": {},
   "outputs": [
    {
     "name": "stdout",
     "output_type": "stream",
     "text": [
      "/home/eduardo/Desktop/MARVL/transcripts/yt-how-top-reps-run-their-discovery-calls.txt\n",
      "/home/eduardo/Desktop/MARVL/transcripts/yt-impact-questions.txt\n",
      "/home/eduardo/Desktop/MARVL/transcripts/yt-best-cold-call-strategy.txt\n",
      "/home/eduardo/Desktop/MARVL/transcripts/yt-how-to-handle-sales-objections.txt\n",
      "/home/eduardo/Desktop/MARVL/transcripts/yt-generate-more-leads-linkedin.txt\n",
      "/home/eduardo/Desktop/MARVL/transcripts/Get to the C-Suite Faster How to Navigate Unpredictable Sales Cycles in 2023_otter_ai.txt\n",
      "/home/eduardo/Desktop/MARVL/transcripts/yt-get-to-the-c-suite.txt\n",
      "/home/eduardo/Desktop/MARVL/transcripts/yt-create-urgency.txt\n",
      "/home/eduardo/Desktop/MARVL/transcripts/yt-cold-prospecting-masterclass.txt\n",
      "/home/eduardo/Desktop/MARVL/transcripts/yt-why-prospects-ignore-you.txt\n",
      "/home/eduardo/Desktop/MARVL/transcripts/yt-write-linkedin-messages-to-connect.txt\n",
      "/home/eduardo/Desktop/MARVL/transcripts/yt-how-to-be-professionally-persistent-wt-being-annoying.txt\n",
      "/home/eduardo/Desktop/MARVL/transcripts/yt-help-team-maximize-opportunities.txt\n",
      "/home/eduardo/Desktop/MARVL/transcripts/yt-handle-any-sales-objections.txt\n",
      "/home/eduardo/Desktop/MARVL/transcripts/yt-how-to-write-a-cold-email.txt\n"
     ]
    }
   ],
   "source": [
    "# Assign directory\n",
    "directory = '/home/eduardo/Desktop/MARVL/transcripts/'\n",
    "\n",
    "# Iterate over files in that directory \n",
    "for filename in os.listdir(directory):\n",
    "    \n",
    "    f = os.path.join(directory, filename)\n",
    "\n",
    "    # Checking if it is a file\n",
    "    if os.path.isfile(f):\n",
    "        print(f)"
   ]
  },
  {
   "cell_type": "code",
   "execution_count": 25,
   "id": "f305b746",
   "metadata": {},
   "outputs": [],
   "source": [
    "format_transcript('/home/eduardo/Desktop/MARVL/transcripts/yt-get-to-the-c-suite.txt', 'get-to-c-suite.csv')"
   ]
  }
 ],
 "metadata": {
  "kernelspec": {
   "display_name": "base",
   "language": "python",
   "name": "python3"
  },
  "language_info": {
   "codemirror_mode": {
    "name": "ipython",
    "version": 3
   },
   "file_extension": ".py",
   "mimetype": "text/x-python",
   "name": "python",
   "nbconvert_exporter": "python",
   "pygments_lexer": "ipython3",
   "version": "3.9.12"
  },
  "vscode": {
   "interpreter": {
    "hash": "c5abe1dd6f168b4f5e67de02cffc00ce8cef82ade2b382edc6fecc892b15c5a1"
   }
  }
 },
 "nbformat": 4,
 "nbformat_minor": 5
}
